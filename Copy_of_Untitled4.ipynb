{
  "nbformat": 4,
  "nbformat_minor": 0,
  "metadata": {
    "colab": {
      "provenance": [],
      "include_colab_link": true
    },
    "kernelspec": {
      "name": "python3",
      "display_name": "Python 3"
    },
    "language_info": {
      "name": "python"
    }
  },
  "cells": [
    {
      "cell_type": "markdown",
      "metadata": {
        "id": "view-in-github",
        "colab_type": "text"
      },
      "source": [
        "<a href=\"https://colab.research.google.com/github/Sindhujaganji/ChatBot-AI/blob/main/Copy_of_Untitled4.ipynb\" target=\"_parent\"><img src=\"https://colab.research.google.com/assets/colab-badge.svg\" alt=\"Open In Colab\"/></a>"
      ]
    },
    {
      "cell_type": "code",
      "execution_count": null,
      "metadata": {
        "id": "EGOnztym86KE"
      },
      "outputs": [],
      "source": [
        "import pandas as pd\n",
        "import numpy as np\n",
        "import os\n",
        "import matplotlib.pyplot as plt\n",
        "import seaborn as sns\n",
        "from pathlib import Path"
      ]
    },
    {
      "cell_type": "code",
      "source": [
        "Vehicles= r'/content/Vehicles'\n",
        "Non_Vehicles = r'/content/Non_Vehicles'"
      ],
      "metadata": {
        "id": "HQwX7-7K8-DE"
      },
      "execution_count": null,
      "outputs": []
    },
    {
      "cell_type": "code",
      "source": [
        "vehicles_data = os.listdir(Vehicles)\n",
        "non_vehicles_data = os.listdir(Non_Vehicles)"
      ],
      "metadata": {
        "id": "i3fiKNzJ9ATj"
      },
      "execution_count": null,
      "outputs": []
    },
    {
      "cell_type": "code",
      "source": [
        "print(vehicles_data[:5])\n",
        "print(non_vehicles_data[:5])"
      ],
      "metadata": {
        "colab": {
          "base_uri": "https://localhost:8080/"
        },
        "id": "iBfyygCB9CO3",
        "outputId": "0a9dafc4-e88d-4b5b-e6b4-cbcd03d6ef7c"
      },
      "execution_count": null,
      "outputs": [
        {
          "output_type": "stream",
          "name": "stdout",
          "text": [
            "['right (77).png', 'right (87).png', 'right (85).png', 'right (297).png', 'right (51).png']\n",
            "['image409.png', 'image90.png', 'image445.png', 'image49.png', 'image420.png']\n"
          ]
        }
      ]
    },
    {
      "cell_type": "code",
      "source": [
        "Base_directory = '../Temp/'\n",
        "Train_directory = os.path.join(Base_directory, 'train')\n",
        "Test_directory = os.path.join(Base_directory, 'test')\n",
        "Vehicles_train_data = os.path.join(Train_directory, 'vehicles')\n",
        "Non_vehicles_train_data = os.path.join(Train_directory, 'non-vehicles')\n",
        "Vehicles_test_data = os.path.join(Test_directory, 'vehicles')\n",
        "Non_vehicles_test_data = os.path.join(Test_directory, 'non-vehicles')"
      ],
      "metadata": {
        "id": "3ZA9737Z9EJ6"
      },
      "execution_count": null,
      "outputs": []
    },
    {
      "cell_type": "code",
      "source": [
        "from sklearn.model_selection import train_test_split\n",
        "train_vehicles,test_vehicles = train_test_split(\n",
        "    vehicles_data, train_size=0.7, shuffle=True, random_state=0)"
      ],
      "metadata": {
        "id": "9ImhoWGX9GKn"
      },
      "execution_count": null,
      "outputs": []
    },
    {
      "cell_type": "code",
      "source": [
        "train_non_vehicles,test_non_vehicles = train_test_split(\n",
        "    non_vehicles_data, train_size=0.7, shuffle=True, random_state=0)"
      ],
      "metadata": {
        "id": "0WfAuZ3_9IGS"
      },
      "execution_count": null,
      "outputs": []
    },
    {
      "cell_type": "code",
      "source": [
        "print('Train vehicle image data size:', len(train_vehicles))\n",
        "print('Test vehicle image size:', len(train_non_vehicles))\n",
        "\n",
        "print('Train vehicle image data size:', len(test_vehicles))\n",
        "print('Test size for non vehicles:', len(test_non_vehicles))"
      ],
      "metadata": {
        "colab": {
          "base_uri": "https://localhost:8080/"
        },
        "id": "1JR2Sg0x9KFZ",
        "outputId": "b83f7e39-d373-46e6-b0cf-15ca803e2322"
      },
      "execution_count": null,
      "outputs": [
        {
          "output_type": "stream",
          "name": "stdout",
          "text": [
            "Train vehicle image data size: 70\n",
            "Test vehicle image size: 88\n",
            "Train vehicle image data size: 31\n",
            "Test size for non vehicles: 38\n"
          ]
        }
      ]
    },
    {
      "cell_type": "code",
      "source": [
        "import shutil\n",
        "def copy_images(images_lst,old_dir,new_dir):\n",
        "    if not os.path.exists(new_dir):\n",
        "        os.makedirs(new_dir)\n",
        "    for file_name in images_lst:\n",
        "        shutil.copy(\n",
        "            os.path.join(old_dir, file_name),\n",
        "            os.path.join(new_dir, file_name)\n",
        "        )\n",
        "    print(f'{len(images_lst)} Copying Image data to{new_dir}')"
      ],
      "metadata": {
        "id": "nz6F0o3b9MCO"
      },
      "execution_count": null,
      "outputs": []
    },
    {
      "cell_type": "code",
      "source": [
        "copy_images(train_vehicles, Vehicles, Vehicles_train_data)\n",
        "copy_images(train_non_vehicles,Non_Vehicles, Non_vehicles_train_data)\n",
        "copy_images(test_vehicles, Vehicles, Vehicles_test_data)\n",
        "copy_images(test_non_vehicles, Non_Vehicles, Non_vehicles_test_data)\n"
      ],
      "metadata": {
        "colab": {
          "base_uri": "https://localhost:8080/"
        },
        "id": "7_F0KNLL9N-Y",
        "outputId": "756ba046-0f6b-48e9-a393-691dd77f3b3c"
      },
      "execution_count": null,
      "outputs": [
        {
          "output_type": "stream",
          "name": "stdout",
          "text": [
            "70 Copying Image data to../Temp/train/vehicles\n",
            "88 Copying Image data to../Temp/train/non-vehicles\n",
            "31 Copying Image data to../Temp/test/vehicles\n",
            "38 Copying Image data to../Temp/test/non-vehicles\n"
          ]
        }
      ]
    },
    {
      "cell_type": "code",
      "source": [
        "len(os.listdir(Vehicles_train_data))"
      ],
      "metadata": {
        "colab": {
          "base_uri": "https://localhost:8080/"
        },
        "id": "_XglbYVW9QjN",
        "outputId": "dafafe9c-49bc-4318-8fb2-d8ff86b9b8f0"
      },
      "execution_count": null,
      "outputs": [
        {
          "output_type": "execute_result",
          "data": {
            "text/plain": [
              "70"
            ]
          },
          "metadata": {},
          "execution_count": 33
        }
      ]
    },
    {
      "cell_type": "code",
      "source": [
        "len(os.listdir(Non_vehicles_train_data))"
      ],
      "metadata": {
        "colab": {
          "base_uri": "https://localhost:8080/"
        },
        "id": "o6vxMKGg9SfJ",
        "outputId": "99b27963-4a01-46e5-9392-aaa1456ce3d4"
      },
      "execution_count": null,
      "outputs": [
        {
          "output_type": "execute_result",
          "data": {
            "text/plain": [
              "88"
            ]
          },
          "metadata": {},
          "execution_count": 34
        }
      ]
    },
    {
      "cell_type": "code",
      "source": [
        "Image_size=250"
      ],
      "metadata": {
        "id": "HNQZGpGa9UQ7"
      },
      "execution_count": null,
      "outputs": []
    },
    {
      "cell_type": "code",
      "source": [
        "import tensorflow as tf\n",
        "from tensorflow.keras import layers \n",
        "train_data= tf.keras.preprocessing.image.ImageDataGenerator(\n",
        "    rescale=1./249\n",
        ")\n",
        "\n",
        "t_gen = train_data.flow_from_directory(\n",
        "    Train_directory,\n",
        "    target_size=(Image_size, Image_size),\n",
        "    shuffle=True,\n",
        "    class_mode='categorical'\n",
        ")\n",
        "\n",
        "test_data = tf.keras.preprocessing.image.ImageDataGenerator(\n",
        "    rescale=1./249\n",
        ")\n",
        "test_gen = test_data.flow_from_directory(\n",
        "    Test_directory,\n",
        "    target_size=(Image_size, Image_size),\n",
        "    class_mode='categorical'\n",
        ")"
      ],
      "metadata": {
        "colab": {
          "base_uri": "https://localhost:8080/"
        },
        "id": "bvZXB0-X9VR1",
        "outputId": "76a8eade-8279-4fcd-8d3e-4448b9d7254c"
      },
      "execution_count": null,
      "outputs": [
        {
          "output_type": "stream",
          "name": "stdout",
          "text": [
            "Found 158 images belonging to 2 classes.\n",
            "Found 69 images belonging to 2 classes.\n"
          ]
        }
      ]
    },
    {
      "cell_type": "code",
      "source": [
        "cnn_model = tf.keras.Sequential([\n",
        "    layers.Conv2D(32, (3, 3), activation='relu', input_shape=(Image_size, Image_size, 3)),\n",
        "    layers.MaxPool2D((2, 2)),\n",
        "    layers.Conv2D(64, (3, 3), activation='relu'),\n",
        "    layers.MaxPool2D(2, 2),\n",
        "    layers.Flatten(),\n",
        "    layers.Dense(1, activation='sigmoid')\n",
        "])\n",
        "cnn_model.compile(\n",
        "    optimizer='adam',\n",
        "    loss='binary_crossentropy',\n",
        "    loss_weights=None,\n",
        "    run_eagerly=None,\n",
        "    steps_per_execution=None,\n",
        "    metrics=['accuracy']\n",
        ")"
      ],
      "metadata": {
        "id": "t_GEuggZ9Yjr"
      },
      "execution_count": null,
      "outputs": []
    },
    {
      "cell_type": "code",
      "source": [
        "early_stopping = tf.keras.callbacks.EarlyStopping(\n",
        "    monitor='val_accuracy',\n",
        "    verbose=0,\n",
        "    mode='auto'\n",
        ")\n",
        "model_path = 'vehicle_detection.h5'\n",
        "model_checkpoint = tf.keras.callbacks.ModelCheckpoint(\n",
        "    model_path,\n",
        "    save_best_only=True,\n",
        "    save_freq=\"epoch\",\n",
        "    options=None\n",
        ")"
      ],
      "metadata": {
        "id": "JytW4Jbz9ZKv"
      },
      "execution_count": null,
      "outputs": []
    },
    {
      "cell_type": "code",
      "source": [
        "history= cnn_model.fit(\n",
        "    t_gen,\n",
        "    epochs=10,\n",
        "    batch_size=128,\n",
        "    verbose=1,\n",
        "    validation_data=test_gen,\n",
        "    callbacks=[early_stopping, model_checkpoint]\n",
        ")"
      ],
      "metadata": {
        "colab": {
          "base_uri": "https://localhost:8080/"
        },
        "id": "jRqYPqps9ckL",
        "outputId": "0d6f2a02-9a0c-4a9e-9c2a-02c262e40d07"
      },
      "execution_count": null,
      "outputs": [
        {
          "output_type": "stream",
          "name": "stdout",
          "text": [
            "Epoch 1/10\n",
            "5/5 [==============================] - 16s 3s/step - loss: 1.4697 - accuracy: 0.5000 - val_loss: 1.0010 - val_accuracy: 0.5000\n",
            "Epoch 2/10\n",
            "5/5 [==============================] - 14s 3s/step - loss: 0.7836 - accuracy: 0.5000 - val_loss: 0.6949 - val_accuracy: 0.5000\n"
          ]
        }
      ]
    },
    {
      "cell_type": "code",
      "source": [
        "plt.title   (\" Train loss and validation loss\")\n",
        "plt.plot(history.history['loss'], label='Train Loss')\n",
        "plt.plot(history.history['val_loss'], label='Validation Loss')\n",
        "plt.legend()\n",
        "plt.show()\n",
        "\n",
        "plt.title(\"Train accuracy  and Validation accuracy\")\n",
        "plt.plot(history.history['accuracy'], label='Train Accuracy')\n",
        "plt.plot(history.history['val_accuracy'], label='Validation Accuracy')\n",
        "plt.legend()\n",
        "plt.show()"
      ],
      "metadata": {
        "colab": {
          "base_uri": "https://localhost:8080/",
          "height": 545
        },
        "id": "HoEuVZdh9e7l",
        "outputId": "9db9bd9e-5c5a-4a82-8f27-afee24bf573e"
      },
      "execution_count": null,
      "outputs": [
        {
          "output_type": "display_data",
          "data": {
            "text/plain": [
              "<Figure size 432x288 with 1 Axes>"
            ],
            "image/png": "[encoded data removed]"
          },
          "metadata": {
            "needs_background": "light"
          }
        },
        {
          "output_type": "display_data",
          "data": {
            "text/plain": [
              "<Figure size 432x288 with 1 Axes>"
            ],
            "image/png": "[encoded data removed]"
          },
          "metadata": {
            "needs_background": "light"
          }
        }
      ]
    }
  ]
}